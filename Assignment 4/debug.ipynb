{
 "cells": [
  {
   "cell_type": "code",
   "execution_count": 2,
   "metadata": {},
   "outputs": [],
   "source": [
    "import numpy as np\n",
    "import matplotlib.pyplot as plt\n",
    "\n",
    "import torch\n",
    "\n",
    "from torch.utils.data import Dataset, DataLoader\n",
    "import torch.nn as nn\n",
    "import torch.nn.functional as F\n",
    "\n",
    "import torchvision\n",
    "from torchvision.datasets import MNIST"
   ]
  },
  {
   "cell_type": "code",
   "execution_count": 14,
   "metadata": {},
   "outputs": [],
   "source": [
    "PI = torch.from_numpy(np.asarray(np.pi))\n",
    "EPS = 1.e-5\n",
    "\n",
    "\n",
    "def log_standard_normal(x, reduction=None, dim=None):\n",
    "    D = x.shape[1]\n",
    "    log_p = -0.5 * D * torch.log(2. * PI) - 0.5 * x**2.\n",
    "    if reduction == 'avg':\n",
    "        return torch.mean(log_p, dim)\n",
    "    elif reduction == 'sum':\n",
    "        return torch.sum(log_p, dim)\n",
    "    else:\n",
    "        return log_p\n",
    "    \n",
    "def log_normal_diag(x, mu, log_var, reduction=None, dim=None):\n",
    "    D = x.shape[1]\n",
    "    log_p = -0.5 * D * torch.log(2. * PI) - 0.5 * log_var - 0.5 * torch.exp(-log_var) * (x - mu)**2.\n",
    "    if reduction == 'avg':\n",
    "        return torch.mean(log_p, dim)\n",
    "    elif reduction == 'sum':\n",
    "        return torch.sum(log_p, dim)\n",
    "    else:\n",
    "        return log_p"
   ]
  },
  {
   "cell_type": "code",
   "execution_count": null,
   "metadata": {},
   "outputs": [],
   "source": [
    "# class Prior(nn.Module):\n",
    "#     def __init__(self, device='cpu'):\n",
    "#         super(Prior, self).__init__()\n",
    "#         self.device = device\n",
    "\n",
    "#     def forward(self, z):\n",
    "#         # Calculate the log probability of the prior\n",
    "#         # TODO which value for z to use\n",
    "#         log_p_z = log_standard_normal(z)\n",
    "\n",
    "#         return log_p_z"
   ]
  },
  {
   "cell_type": "code",
   "execution_count": null,
   "metadata": {},
   "outputs": [],
   "source": [
    "class Encoder(nn.Module):\n",
    "    def __init__(self, input_dim, hidden_dim, latent_dim, device='cpu'):\n",
    "        super(Encoder, self).__init__()\n",
    "        self.device = device\n",
    "        self.input_dim = input_dim\n",
    "        self.hidden_dim = hidden_dim\n",
    "        self.latent_dim = latent_dim\n",
    "\n",
    "        self.x_2_h = nn.Linear(input_dim, hidden_dim)\n",
    "\n",
    "        self.fc_mu = nn.Linear(hidden_dim, latent_dim)\n",
    "        self.fc_var = nn.Linear(hidden_dim, latent_dim)\n",
    "    \n",
    "    @staticmethod\n",
    "    def reparameterization(mu_e, log_var_e):\n",
    "        std = torch.exp(0.5*log_var_e)\n",
    "        eps = torch.randn_like(std)\n",
    "        z = mu_e + (eps * std)\n",
    "        return z\n",
    "\n",
    "    def forward(self, x):\n",
    "        h = F.relu(self.x_2_h(x))\n",
    "        mu = self.fc_mu(h)\n",
    "        log_var = self.fc_var(h)\n",
    "  \n",
    "        z = self.reparameterization(mu, log_var)\n",
    "        return z, mu, log_var"
   ]
  },
  {
   "cell_type": "code",
   "execution_count": 94,
   "metadata": {},
   "outputs": [],
   "source": [
    "class Decoder(nn.Module):\n",
    "    def __init__(self, latent_dim, hidden_dim, output_dim, device='cpu'):\n",
    "        super(Decoder, self).__init__()\n",
    "        self.device = device\n",
    "        self.latent_dim = latent_dim\n",
    "        self.hidden_dim = hidden_dim\n",
    "        self.output_dim = output_dim\n",
    "\n",
    "        self.z_2_h = nn.Linear(latent_dim, hidden_dim)\n",
    "        self.h_2_x = nn.Linear(hidden_dim, output_dim)\n",
    "\n",
    "\n",
    "    def forward(self, z):\n",
    "        h = F.relu(self.z_2_h(z))\n",
    "        x_hat = F.sigmoid(self.h_2_x(h))\n",
    "        return x_hat"
   ]
  },
  {
   "cell_type": "code",
   "execution_count": null,
   "metadata": {},
   "outputs": [],
   "source": [
    "class VAE(nn.Module):\n",
    "    def __init__(self, device='cpu'):\n",
    "        super(VAE, self).__init__()\n",
    "        self.encoder = Encoder(input_dim=784, hidden_dim=400, latent_dim=20)\n",
    "        self.decoder = Decoder(latent_dim=20, hidden_dim=400, output_dim=784)\n",
    "        #self.prior = Prior()\n",
    "\n",
    "    def forward(self, x, reduction='mean'):\n",
    "        z, mu, log_var = self.encoder.forward(x)\n",
    "        x_hat = self.decoder.forward(z)\n",
    "  \n",
    "        return x_hat, z, mu, log_var\n",
    "    \n",
    "    def elbo(self, x, x_hat, z, mu, log_var):\n",
    "        # TODO: Apply some form of normalization as this reconstruction loss is very large.\n",
    "        # We can use this and reduce it by sum as we're using bernoulli distribution. We can divide it by batch size to get the average.\n",
    "        RE = F.binary_cross_entropy(x_hat, x, reduction='sum')\n",
    "       # print(re.item())\n",
    "        #print(log_var)\n",
    "        #kl = log_normal_diag(z, mu, log_var, reduction='sum') - log_normal_diag(z, torch.zeros_like(z), torch.zeros_like(z), reduction='sum')\n",
    "        #print(kl.item())\n",
    "        #nelbo = -(re - kl)\n",
    "        KLD      = - 0.5 * torch.sum(1+ log_var - mu.pow(2) - log_var.exp())\n",
    "\n",
    "        return RE + KLD\n"
   ]
  },
  {
   "cell_type": "code",
   "execution_count": null,
   "metadata": {},
   "outputs": [],
   "source": [
    "if torch.cuda.is_available():\n",
    "  device = 'cuda'\n",
    "else:\n",
    "  device = 'cpu'\n",
    "\n",
    "transforms_train = torchvision.transforms.Compose([\n",
    "    torchvision.transforms.ToTensor()\n",
    "])\n",
    "\n",
    "dataset = MNIST('./files/', train=True, download=True,\n",
    "                      transform=transforms_train\n",
    ")\n",
    "\n",
    "train_dataset, val_dataset = torch.utils.data.random_split(dataset, [50000, 10000], generator=torch.Generator().manual_seed(14))\n",
    "\n",
    "#-dataloaders\n",
    "batch_size = 100\n",
    "\n",
    "train_loader = DataLoader(train_dataset, batch_size=batch_size, shuffle=True)\n"
   ]
  },
  {
   "cell_type": "code",
   "execution_count": null,
   "metadata": {},
   "outputs": [
    {
     "name": "stdout",
     "output_type": "stream",
     "text": [
      "Epoch 0 Loss: 19101.96875\n",
      "Epoch 1 Loss: 16675.958984375\n",
      "Epoch 2 Loss: 15934.7431640625\n",
      "Epoch 3 Loss: 14118.1337890625\n",
      "Epoch 4 Loss: 14503.7607421875\n",
      "Epoch 5 Loss: 12962.8984375\n",
      "Epoch 6 Loss: 13089.103515625\n",
      "Epoch 7 Loss: 13307.8037109375\n",
      "Epoch 8 Loss: 11448.744140625\n",
      "Epoch 9 Loss: 12123.37890625\n",
      "Epoch 10 Loss: 12374.86328125\n",
      "Epoch 11 Loss: 12508.28125\n",
      "Epoch 12 Loss: 11662.150390625\n",
      "Epoch 13 Loss: 11845.048828125\n",
      "Epoch 14 Loss: 11594.51171875\n",
      "Epoch 15 Loss: 11635.271484375\n",
      "Epoch 16 Loss: 11606.0205078125\n",
      "Epoch 17 Loss: 11326.3251953125\n",
      "Epoch 18 Loss: 11497.68359375\n",
      "Epoch 19 Loss: 11674.939453125\n",
      "Epoch 20 Loss: 11751.2607421875\n",
      "Epoch 21 Loss: 11331.64453125\n",
      "Epoch 22 Loss: 11384.8994140625\n",
      "Epoch 23 Loss: 10862.3203125\n",
      "Epoch 24 Loss: 10991.3603515625\n",
      "Epoch 25 Loss: 10818.01953125\n",
      "Epoch 26 Loss: 11162.8603515625\n",
      "Epoch 27 Loss: 11054.755859375\n",
      "Epoch 28 Loss: 11020.748046875\n",
      "Epoch 29 Loss: 11168.3671875\n",
      "Training finished\n"
     ]
    }
   ],
   "source": [
    "\n",
    "\n",
    "# Implement the training loop\n",
    "\n",
    "# Custom weight initialization function using built-in PyTorch initializers\n",
    "def weights_init(m):\n",
    "    if isinstance(m, nn.Linear):\n",
    "        nn.init.xavier_normal_(m.weight)\n",
    "        if m.bias is not None:\n",
    "            nn.init.constant_(m.bias, 0)\n",
    "\n",
    "# Initialize the model and apply the custom weight initialization\n",
    "model = VAE().to(device)\n",
    "model.apply(weights_init)\n",
    "\n",
    "optimizer = torch.optim.Adam(model.parameters(), lr=1e-4)\n",
    "\n",
    "model.train()\n",
    "losses = []\n",
    "for epoch in range(30):\n",
    "  for indx_batch, (batch, _) in enumerate(train_loader):\n",
    "          batch = batch.to(device)\n",
    "          # Flattne the image\n",
    "          batch = batch.view(batch.size(0), -1)\n",
    "          \n",
    "          optimizer.zero_grad()\n",
    "\n",
    "          x_hat, z, mu, log_var = model.forward(batch)\n",
    "          loss = model.elbo(batch, x_hat, z, mu, log_var)\n",
    "\n",
    "          loss.backward()\n",
    "          optimizer.step()\n",
    "  print(f'Epoch {epoch} Loss: {loss.item()}')\n",
    "  losses.append(loss.item())\n",
    "#\n",
    "print('Training finished')\n"
   ]
  },
  {
   "cell_type": "code",
   "execution_count": 109,
   "metadata": {},
   "outputs": [
    {
     "name": "stdout",
     "output_type": "stream",
     "text": [
      "30\n"
     ]
    },
    {
     "data": {
      "image/png": "[encoded data removed]",
      "text/plain": [
       "<Figure size 640x480 with 1 Axes>"
      ]
     },
     "metadata": {},
     "output_type": "display_data"
    }
   ],
   "source": [
    "print(len(losses))\n",
    "\n",
    "# Plot the loss\n",
    "plt.plot(losses)\n",
    "plt.xlabel('Batch')\n",
    "plt.ylabel('Loss')\n",
    "plt.title('Training Loss')\n",
    "plt.show()"
   ]
  },
  {
   "cell_type": "code",
   "execution_count": null,
   "metadata": {},
   "outputs": [
    {
     "data": {
      "image/png": "[encoded data removed]",
      "text/plain": [
       "<Figure size 640x480 with 1 Axes>"
      ]
     },
     "metadata": {},
     "output_type": "display_data"
    },
    {
     "data": {
      "image/png": "[encoded data removed]",
      "text/plain": [
       "<Figure size 640x480 with 1 Axes>"
      ]
     },
     "metadata": {},
     "output_type": "display_data"
    }
   ],
   "source": [
    "# Plot the reconstruction of the first image in the dataset\n",
    "model.eval()\n",
    "with torch.no_grad():\n",
    "    x = dataset[0][0].to(device)\n",
    "    x = x.view(1, -1)\n",
    "    plt.imshow(x.cpu().numpy().reshape(28, 28), cmap='gray')\n",
    "    plt.show()\n",
    "    x_hat, _, _, _ = model.forward(x)\n",
    "    x_hat = x_hat.view(1, 28, 28)\n",
    "    x_hat = x_hat.cpu().numpy()\n",
    "    x_hat = np.squeeze(x_hat)\n",
    "    plt.imshow(x_hat, cmap='gray')\n",
    "    plt.show()\n",
    "\n"
   ]
  },
  {
   "cell_type": "code",
   "execution_count": 330,
   "metadata": {},
   "outputs": [
    {
     "name": "stdout",
     "output_type": "stream",
     "text": [
      "Image shape: torch.Size([1, 28, 28])\n"
     ]
    },
    {
     "ename": "RuntimeError",
     "evalue": "mat1 and mat2 shapes cannot be multiplied (16x1 and 16x200)",
     "output_type": "error",
     "traceback": [
      "\u001b[0;31m---------------------------------------------------------------------------\u001b[0m",
      "\u001b[0;31mRuntimeError\u001b[0m                              Traceback (most recent call last)",
      "Cell \u001b[0;32mIn[330], line 50\u001b[0m\n\u001b[1;32m     48\u001b[0m \u001b[38;5;66;03m# Test if the CNN encoder works\u001b[39;00m\n\u001b[1;32m     49\u001b[0m cnn_encoder \u001b[38;5;241m=\u001b[39m CNNEncoder(latent_dim\u001b[38;5;241m=\u001b[39m\u001b[38;5;241m20\u001b[39m)\u001b[38;5;241m.\u001b[39mto(device)\n\u001b[0;32m---> 50\u001b[0m z, mu, log_var \u001b[38;5;241m=\u001b[39m cnn_encoder\u001b[38;5;241m.\u001b[39mforward(x)\n\u001b[1;32m     52\u001b[0m \u001b[38;5;28mprint\u001b[39m(z\u001b[38;5;241m.\u001b[39mshape)\n\u001b[1;32m     53\u001b[0m \u001b[38;5;28mprint\u001b[39m(mu\u001b[38;5;241m.\u001b[39mshape)\n",
      "Cell \u001b[0;32mIn[330], line 39\u001b[0m, in \u001b[0;36mCNNEncoder.forward\u001b[0;34m(self, x)\u001b[0m\n\u001b[1;32m     37\u001b[0m h \u001b[38;5;241m=\u001b[39m h\u001b[38;5;241m.\u001b[39mview(h\u001b[38;5;241m.\u001b[39msize(\u001b[38;5;241m0\u001b[39m), \u001b[38;5;241m-\u001b[39m\u001b[38;5;241m1\u001b[39m)\n\u001b[1;32m     38\u001b[0m \u001b[38;5;66;03m#print(h.shape)\u001b[39;00m\n\u001b[0;32m---> 39\u001b[0m h \u001b[38;5;241m=\u001b[39m \u001b[38;5;28mself\u001b[39m\u001b[38;5;241m.\u001b[39mfc1(h)\n\u001b[1;32m     41\u001b[0m mu \u001b[38;5;241m=\u001b[39m \u001b[38;5;28mself\u001b[39m\u001b[38;5;241m.\u001b[39mfc_mu(h)\n\u001b[1;32m     42\u001b[0m log_var \u001b[38;5;241m=\u001b[39m \u001b[38;5;28mself\u001b[39m\u001b[38;5;241m.\u001b[39mfc_log_var(h)\n",
      "File \u001b[0;32m~/anaconda3/lib/python3.11/site-packages/torch/nn/modules/module.py:1736\u001b[0m, in \u001b[0;36mModule._wrapped_call_impl\u001b[0;34m(self, *args, **kwargs)\u001b[0m\n\u001b[1;32m   1734\u001b[0m     \u001b[38;5;28;01mreturn\u001b[39;00m \u001b[38;5;28mself\u001b[39m\u001b[38;5;241m.\u001b[39m_compiled_call_impl(\u001b[38;5;241m*\u001b[39margs, \u001b[38;5;241m*\u001b[39m\u001b[38;5;241m*\u001b[39mkwargs)  \u001b[38;5;66;03m# type: ignore[misc]\u001b[39;00m\n\u001b[1;32m   1735\u001b[0m \u001b[38;5;28;01melse\u001b[39;00m:\n\u001b[0;32m-> 1736\u001b[0m     \u001b[38;5;28;01mreturn\u001b[39;00m \u001b[38;5;28mself\u001b[39m\u001b[38;5;241m.\u001b[39m_call_impl(\u001b[38;5;241m*\u001b[39margs, \u001b[38;5;241m*\u001b[39m\u001b[38;5;241m*\u001b[39mkwargs)\n",
      "File \u001b[0;32m~/anaconda3/lib/python3.11/site-packages/torch/nn/modules/module.py:1747\u001b[0m, in \u001b[0;36mModule._call_impl\u001b[0;34m(self, *args, **kwargs)\u001b[0m\n\u001b[1;32m   1742\u001b[0m \u001b[38;5;66;03m# If we don't have any hooks, we want to skip the rest of the logic in\u001b[39;00m\n\u001b[1;32m   1743\u001b[0m \u001b[38;5;66;03m# this function, and just call forward.\u001b[39;00m\n\u001b[1;32m   1744\u001b[0m \u001b[38;5;28;01mif\u001b[39;00m \u001b[38;5;129;01mnot\u001b[39;00m (\u001b[38;5;28mself\u001b[39m\u001b[38;5;241m.\u001b[39m_backward_hooks \u001b[38;5;129;01mor\u001b[39;00m \u001b[38;5;28mself\u001b[39m\u001b[38;5;241m.\u001b[39m_backward_pre_hooks \u001b[38;5;129;01mor\u001b[39;00m \u001b[38;5;28mself\u001b[39m\u001b[38;5;241m.\u001b[39m_forward_hooks \u001b[38;5;129;01mor\u001b[39;00m \u001b[38;5;28mself\u001b[39m\u001b[38;5;241m.\u001b[39m_forward_pre_hooks\n\u001b[1;32m   1745\u001b[0m         \u001b[38;5;129;01mor\u001b[39;00m _global_backward_pre_hooks \u001b[38;5;129;01mor\u001b[39;00m _global_backward_hooks\n\u001b[1;32m   1746\u001b[0m         \u001b[38;5;129;01mor\u001b[39;00m _global_forward_hooks \u001b[38;5;129;01mor\u001b[39;00m _global_forward_pre_hooks):\n\u001b[0;32m-> 1747\u001b[0m     \u001b[38;5;28;01mreturn\u001b[39;00m forward_call(\u001b[38;5;241m*\u001b[39margs, \u001b[38;5;241m*\u001b[39m\u001b[38;5;241m*\u001b[39mkwargs)\n\u001b[1;32m   1749\u001b[0m result \u001b[38;5;241m=\u001b[39m \u001b[38;5;28;01mNone\u001b[39;00m\n\u001b[1;32m   1750\u001b[0m called_always_called_hooks \u001b[38;5;241m=\u001b[39m \u001b[38;5;28mset\u001b[39m()\n",
      "File \u001b[0;32m~/anaconda3/lib/python3.11/site-packages/torch/nn/modules/linear.py:125\u001b[0m, in \u001b[0;36mLinear.forward\u001b[0;34m(self, input)\u001b[0m\n\u001b[1;32m    124\u001b[0m \u001b[38;5;28;01mdef\u001b[39;00m \u001b[38;5;21mforward\u001b[39m(\u001b[38;5;28mself\u001b[39m, \u001b[38;5;28minput\u001b[39m: Tensor) \u001b[38;5;241m-\u001b[39m\u001b[38;5;241m>\u001b[39m Tensor:\n\u001b[0;32m--> 125\u001b[0m     \u001b[38;5;28;01mreturn\u001b[39;00m F\u001b[38;5;241m.\u001b[39mlinear(\u001b[38;5;28minput\u001b[39m, \u001b[38;5;28mself\u001b[39m\u001b[38;5;241m.\u001b[39mweight, \u001b[38;5;28mself\u001b[39m\u001b[38;5;241m.\u001b[39mbias)\n",
      "\u001b[0;31mRuntimeError\u001b[0m: mat1 and mat2 shapes cannot be multiplied (16x1 and 16x200)"
     ]
    }
   ],
   "source": [
    "# Test a convolutional layer for the encoder\n",
    "x = dataset[0][0].to(device)\n",
    "# Ensure the image is in the shape (1, 28, 28)\n",
    "image = x.unsqueeze(0) if x.dim() == 2 else x\n",
    "\n",
    "#batch = dataset[0][0].unsqueeze(100).to(device)\n",
    "\n",
    "print(\"Image shape:\", image.shape)\n",
    "\n",
    "class CNNEncoder(nn.Module):\n",
    "    def __init__(self, h_dim=200 ,latent_dim=32, device='cpu'):\n",
    "        super(CNNEncoder, self).__init__()\n",
    "        self.device = device\n",
    "        self.latent_dim = latent_dim\n",
    "\n",
    "        self.conv1 = nn.Conv2d(1, 16, kernel_size=3, padding=1)\n",
    "        self.conv2 = nn.Conv2d(16, 16, kernel_size=3, padding =1)\n",
    "        self.conv3 = nn.Conv2d(16, 16, kernel_size=7, padding = 0)\n",
    "\n",
    "        self.fc1 = nn.Linear(16, h_dim)\n",
    "        self.fc_mu = nn.Linear(h_dim, latent_dim)\n",
    "        self.fc_log_var = nn.Linear(h_dim, latent_dim)\n",
    "        \n",
    "    @staticmethod\n",
    "    def reparameterization(mu_e, log_var_e):\n",
    "        std = torch.exp(0.5*log_var_e)\n",
    "        eps = torch.randn_like(std)\n",
    "        z = mu_e + (eps * std)\n",
    "        return z\n",
    "\n",
    "    def forward(self, x):\n",
    "        h = F.relu(self.conv1(x))\n",
    "        h = F.max_pool2d(h, 2, stride=2)\n",
    "        h = F.relu(self.conv2(h))\n",
    "        h = F.max_pool2d(h, 2, stride=2)\n",
    "        h = F.relu(self.conv3(h))\n",
    "        h = h.view(h.size(0), -1)\n",
    "        #print(h.shape)\n",
    "        h = self.fc1(h)\n",
    "\n",
    "        mu = self.fc_mu(h)\n",
    "        log_var = self.fc_log_var(h)\n",
    "\n",
    "\n",
    "        z = self.reparameterization(mu, log_var)\n",
    "        return z, mu, log_var\n",
    "\n",
    "# Test if the CNN encoder works\n",
    "cnn_encoder = CNNEncoder(latent_dim=20).to(device)\n",
    "z, mu, log_var = cnn_encoder.forward(x)\n",
    "\n",
    "print(z.shape)\n",
    "print(mu.shape)\n",
    "print(log_var.shape)\n",
    "\n"
   ]
  },
  {
   "cell_type": "code",
   "execution_count": 326,
   "metadata": {},
   "outputs": [
    {
     "name": "stdout",
     "output_type": "stream",
     "text": [
      "torch.Size([100, 1, 28, 28])\n",
      "torch.Size([1, 28, 28])\n"
     ]
    },
    {
     "name": "stderr",
     "output_type": "stream",
     "text": [
      "/var/folders/97/50twy7395gs8j3ss631vmvvw0000gp/T/ipykernel_34705/1431230132.py:20: UserWarning: `nn.functional.upsample` is deprecated. Use `nn.functional.interpolate` instead.\n",
      "  h = F.relu(F.upsample(self.deconv1(h), scale_factor=2))\n",
      "/var/folders/97/50twy7395gs8j3ss631vmvvw0000gp/T/ipykernel_34705/1431230132.py:21: UserWarning: `nn.functional.upsample` is deprecated. Use `nn.functional.interpolate` instead.\n",
      "  h = F.relu(F.upsample(self.deconv2(h), scale_factor=2))\n"
     ]
    }
   ],
   "source": [
    "\n",
    "class CNNDecoder(nn.Module):\n",
    "    def __init__(self, h_dim = 200, latent_dim=32, device='cpu'):\n",
    "        super(CNNDecoder, self).__init__()\n",
    "        self.device = device\n",
    "        self.latent_dim = latent_dim\n",
    "        self.h_dim = h_dim\n",
    "\n",
    "        self.fc1 = nn.Linear(latent_dim, h_dim)\n",
    "        self.fc2 = nn.Linear(h_dim, 16)\n",
    "        self.deconv1 = nn.ConvTranspose2d(16, 16, kernel_size=7, padding=0)\n",
    "        self.deconv2 = nn.ConvTranspose2d(16, 16, kernel_size=3, padding=1)\n",
    "        self.deconv3 = nn.ConvTranspose2d(16, 1, kernel_size=3, padding=1)\n",
    "        \n",
    "    def forward(self, z):\n",
    "        h = self.fc1(z)\n",
    "        h = self.fc2(h)\n",
    "        h = h.view(-1, 16, 1, 1)\n",
    "        \n",
    "        # How to double the size of the image with max unpooling?\n",
    "        h = F.relu(F.upsample(self.deconv1(h), scale_factor=2))\n",
    "        h = F.relu(F.upsample(self.deconv2(h), scale_factor=2))\n",
    "        x_hat = torch.sigmoid(self.deconv3(h))\n",
    "        return x_hat\n",
    "\n",
    "        # Fully connected layers\n",
    "        # x = F.relu(self.fc1(z))\n",
    "        # x = F.relu(self.fc2(x))\n",
    "\n",
    "        # # Reshape to prepare for transposed convolutions\n",
    "        # x = x.view(-1, 64, 3, 3)\n",
    "\n",
    "        # # Transposed convolutions\n",
    "        # x = F.relu(F.max_unpool2d(self.deconv1(x)))\n",
    "        # x = F.relu(F.max_unpool2d(self.deconv2(x), scale_factor=2))\n",
    "        # x = torch.sigmoid(self.deconv3(x))\n",
    "        x = self.decoder(z)\n",
    "\n",
    "        return x\n",
    "\n",
    "# Test if the CNN decoder works\n",
    "cnn_decoder = CNNDecoder(latent_dim=20).to(device)\n",
    "x_hat = cnn_decoder.forward(z)\n",
    "print(x_hat.shape)\n",
    "print(x.shape)\n"
   ]
  },
  {
   "cell_type": "code",
   "execution_count": 325,
   "metadata": {},
   "outputs": [],
   "source": [
    "# Define the VAE model with the CNN encoder and decoder\n",
    "\n",
    "class CNNVAE(nn.Module):\n",
    "    def __init__(self, device='cpu'):\n",
    "        super(CNNVAE, self).__init__()\n",
    "        self.encoder = CNNEncoder(latent_dim=20)\n",
    "        self.decoder = CNNDecoder(latent_dim=20)\n",
    "        #self.prior = Prior()\n",
    "\n",
    "    def forward(self, x, reduction='mean'):\n",
    "        z, mu, log_var = self.encoder.forward(x)\n",
    "        x_hat = self.decoder.forward(z)\n",
    "\n",
    "        return x_hat, z, mu, log_var\n",
    "\n",
    "    def elbo(self, x, x_hat, z, mu, log_var):\n",
    "        RE = F.binary_cross_entropy(x_hat, x, reduction='sum')\n",
    "        KLD = - 0.5 * torch.sum(1 + log_var - mu.pow(2) - log_var.exp())\n",
    "\n",
    "        return RE + KLD\n",
    "    \n"
   ]
  },
  {
   "cell_type": "code",
   "execution_count": 331,
   "metadata": {},
   "outputs": [
    {
     "name": "stderr",
     "output_type": "stream",
     "text": [
      "/var/folders/97/50twy7395gs8j3ss631vmvvw0000gp/T/ipykernel_34705/1431230132.py:20: UserWarning: `nn.functional.upsample` is deprecated. Use `nn.functional.interpolate` instead.\n",
      "  h = F.relu(F.upsample(self.deconv1(h), scale_factor=2))\n",
      "/var/folders/97/50twy7395gs8j3ss631vmvvw0000gp/T/ipykernel_34705/1431230132.py:21: UserWarning: `nn.functional.upsample` is deprecated. Use `nn.functional.interpolate` instead.\n",
      "  h = F.relu(F.upsample(self.deconv2(h), scale_factor=2))\n"
     ]
    },
    {
     "name": "stdout",
     "output_type": "stream",
     "text": [
      "Epoch 0 Loss: 18117.970703125\n",
      "Epoch 1 Loss: 15973.150390625\n",
      "Epoch 2 Loss: 15991.482421875\n",
      "Epoch 3 Loss: 15483.4013671875\n",
      "Epoch 4 Loss: 14765.57421875\n",
      "Epoch 5 Loss: 14842.68359375\n",
      "Epoch 6 Loss: 13637.8125\n",
      "Epoch 7 Loss: 14664.14453125\n",
      "Epoch 8 Loss: 14179.3583984375\n",
      "Epoch 9 Loss: 14176.8388671875\n",
      "Epoch 10 Loss: 13710.3203125\n",
      "Epoch 11 Loss: 14768.345703125\n",
      "Epoch 12 Loss: 15042.9921875\n",
      "Epoch 13 Loss: 14547.126953125\n",
      "Epoch 14 Loss: 14861.634765625\n",
      "Epoch 15 Loss: 13644.451171875\n",
      "Epoch 16 Loss: 13791.107421875\n",
      "Epoch 17 Loss: 14221.466796875\n",
      "Epoch 18 Loss: 13201.6005859375\n",
      "Epoch 19 Loss: 13962.53515625\n",
      "Epoch 20 Loss: 14855.482421875\n",
      "Epoch 21 Loss: 13706.841796875\n",
      "Epoch 22 Loss: 14026.783203125\n",
      "Epoch 23 Loss: 14209.6318359375\n",
      "Epoch 24 Loss: 14382.677734375\n",
      "Epoch 25 Loss: 14520.9755859375\n",
      "Epoch 26 Loss: 14550.75\n",
      "Epoch 27 Loss: 14099.412109375\n",
      "Epoch 28 Loss: 14116.30078125\n",
      "Epoch 29 Loss: 14279.8203125\n",
      "Training finished\n"
     ]
    }
   ],
   "source": [
    "# Implement the training loop\n",
    "\n",
    "# Custom weight initialization function using built-in PyTorch initializers\n",
    "def weights_init(m):\n",
    "    if isinstance(m, nn.Linear):\n",
    "        nn.init.xavier_normal_(m.weight)\n",
    "        if m.bias is not None:\n",
    "            nn.init.constant_(m.bias, 0)\n",
    "\n",
    "# Initialize the model and apply the custom weight initialization\n",
    "model = CNNVAE().to(device)\n",
    "model.apply(weights_init)\n",
    "\n",
    "optimizer = torch.optim.Adam(model.parameters(), lr=1e-3)\n",
    "\n",
    "\n",
    "model.train()\n",
    "losses = []\n",
    "for epoch in range(30):\n",
    "  for indx_batch, (batch, _) in enumerate(train_loader):\n",
    "          batch = batch.to(device)\n",
    "          # Flattne the image\n",
    "          # batch = batch.view(batch.size(0), -1)\n",
    "          optimizer.zero_grad()\n",
    "\n",
    "          x_hat, z, mu, log_var = model.forward(batch)\n",
    "\n",
    "          # print(x_hat.shape)\n",
    "          # print(batch.shape)\n",
    "\n",
    "          loss = model.elbo(batch, x_hat, z, mu, log_var)\n",
    "\n",
    "          loss.backward()\n",
    "          optimizer.step()\n",
    "  print(f'Epoch {epoch} Loss: {loss.item()}')\n",
    "  losses.append(loss.item())\n",
    "#\n",
    "print('Training finished')\n"
   ]
  },
  {
   "cell_type": "code",
   "execution_count": 332,
   "metadata": {},
   "outputs": [
    {
     "data": {
      "image/png": "[encoded data removed]",
      "text/plain": [
       "<Figure size 640x480 with 1 Axes>"
      ]
     },
     "metadata": {},
     "output_type": "display_data"
    }
   ],
   "source": [
    "# Plot the loss\n",
    "plt.plot(losses)\n",
    "plt.xlabel('Batch')\n",
    "plt.ylabel('Loss')\n",
    "plt.title('Training Loss')\n",
    "plt.show()\n"
   ]
  },
  {
   "cell_type": "code",
   "execution_count": 341,
   "metadata": {},
   "outputs": [
    {
     "name": "stdout",
     "output_type": "stream",
     "text": [
      "torch.Size([1, 28, 28])\n"
     ]
    },
    {
     "data": {
      "image/png": "[encoded data removed]",
      "text/plain": [
       "<Figure size 640x480 with 1 Axes>"
      ]
     },
     "metadata": {},
     "output_type": "display_data"
    },
    {
     "name": "stderr",
     "output_type": "stream",
     "text": [
      "/var/folders/97/50twy7395gs8j3ss631vmvvw0000gp/T/ipykernel_34705/1431230132.py:20: UserWarning: `nn.functional.upsample` is deprecated. Use `nn.functional.interpolate` instead.\n",
      "  h = F.relu(F.upsample(self.deconv1(h), scale_factor=2))\n",
      "/var/folders/97/50twy7395gs8j3ss631vmvvw0000gp/T/ipykernel_34705/1431230132.py:21: UserWarning: `nn.functional.upsample` is deprecated. Use `nn.functional.interpolate` instead.\n",
      "  h = F.relu(F.upsample(self.deconv2(h), scale_factor=2))\n"
     ]
    },
    {
     "data": {
      "image/png": "[encoded data removed]",
      "text/plain": [
       "<Figure size 640x480 with 1 Axes>"
      ]
     },
     "metadata": {},
     "output_type": "display_data"
    }
   ],
   "source": [
    "# Plot the reconstruction of the first image in the dataset\n",
    "model.eval()\n",
    "with torch.no_grad():\n",
    "    x = dataset[0][0].to(device)\n",
    "    print(x.shape)\n",
    "    #x = x.view(1, -1)\n",
    "    plt.imshow(batch[5].cpu().numpy().reshape(28, 28), cmap='gray')\n",
    "    plt.show()\n",
    "    x_hat, _, _, _ = model.forward(batch)\n",
    "    #x_hat = x_hat.view(1, 28, 28)\n",
    "    x_hat = x_hat.cpu().numpy()\n",
    "    x_hat = np.squeeze(x_hat[5])\n",
    "    plt.imshow(x_hat, cmap='gray')\n",
    "    plt.show()\n",
    "\n"
   ]
  }
 ],
 "metadata": {
  "kernelspec": {
   "display_name": "base",
   "language": "python",
   "name": "python3"
  },
  "language_info": {
   "codemirror_mode": {
    "name": "ipython",
    "version": 3
   },
   "file_extension": ".py",
   "mimetype": "text/x-python",
   "name": "python",
   "nbconvert_exporter": "python",
   "pygments_lexer": "ipython3",
   "version": "3.11.5"
  }
 },
 "nbformat": 4,
 "nbformat_minor": 2
}
