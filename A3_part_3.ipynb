{
 "cells": [
  {
   "cell_type": "markdown",
   "id": "cedc4caf-e56e-4c1e-a3e9-40bd19c0fc55",
   "metadata": {},
   "source": [
    "# DL Assignment 3: Part 3"
   ]
  },
  {
   "cell_type": "markdown",
   "id": "35e8becb-4d2a-4686-8c1d-3a9fd6ea97de",
   "metadata": {},
   "source": [
    "**Q10:**\n",
    "\n",
    "Using the following formulas and parameters we can work out the output dimensions as follows:\n",
    "\n",
    "$\n",
    "n_{H|W}^{[l]} = \\frac{n_{H|W}^{[l-1]} + 2p^{[l-1]}-f^{[l-1]}}{s^{[l-1]}} + 1\n",
    "$\n",
    "\n",
    "$\n",
    "n_{H}^{[l-1]} = 768, n_{W}^{[l-1]} = 1024, p = 1, s = 2, k = 5 \\times 5\n",
    "$\n",
    "\n",
    "$\n",
    "n_{H}^{[l]} = 383.5, n_{W}^{[l]} = 511.5\n",
    "$\n",
    "\n",
    "When the kernel size does not fit an even amount of times in an input dimension, the dimension in question is floored (https://discuss.pytorch.org/t/how-to-keep-output-size-identic-with-input-size/84025), which means that the output heights and widths will turn out to be 383 and 511 pixels respectively. Applying convolution with the aforementioned settings will thus lead to output tensor $Y \\in \\mathbb{R}^{16 \\times 511 \\times 383}$."
   ]
  },
  {
   "cell_type": "markdown",
   "id": "2fcc948a-127f-4bfa-bcaa-75ea055e2002",
   "metadata": {},
   "source": [
    "We can apply the same calculations to an input image tensor $X \\in \\mathbb{R}^{8 \\times 1920 \\times 1080}$ to get an output tensor $Y \\in \\mathbb{R}^{16 \\times 959 \\times 539}$"
   ]
  },
  {
   "cell_type": "markdown",
   "id": "f7a14aee-5035-4aba-8482-175fbd2a9b26",
   "metadata": {},
   "source": [
    "**Q11:**\n",
    "\n",
    "Input tensor: $X \\in \\mathbb{R}^{16 \\times 3 \\times 32 \\times 32}$\n",
    "```\n",
    "X = torch.randn(16,3,32,32)\n",
    "```\n",
    "\n",
    "Global max pool: ``` X_maxpool = X.max([2,3]) ```\n",
    "\n",
    "\n",
    "Global mean pool: ``` X_meanpool = X.mean([2,3]) ```"
   ]
  },
  {
   "cell_type": "markdown",
   "id": "736fe22c-77f2-4a94-9bbb-696b8e6fcaec",
   "metadata": {},
   "source": [
    "**Q12:**\n",
    "\n"
   ]
  },
  {
   "cell_type": "code",
   "execution_count": null,
   "id": "d26db596-d4f3-417f-ac5c-1095dd23250e",
   "metadata": {},
   "outputs": [],
   "source": []
  }
 ],
 "metadata": {
  "kernelspec": {
   "display_name": "Python 3 (ipykernel)",
   "language": "python",
   "name": "python3"
  },
  "language_info": {
   "codemirror_mode": {
    "name": "ipython",
    "version": 3
   },
   "file_extension": ".py",
   "mimetype": "text/x-python",
   "name": "python",
   "nbconvert_exporter": "python",
   "pygments_lexer": "ipython3",
   "version": "3.11.9"
  }
 },
 "nbformat": 4,
 "nbformat_minor": 5
}
