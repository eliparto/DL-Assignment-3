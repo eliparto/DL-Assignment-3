{
 "cells": [
  {
   "cell_type": "markdown",
   "id": "3e142c4b-f336-4cc6-9245-e3ea304104b3",
   "metadata": {},
   "source": [
    "# DL Assignment 3: Group 38"
   ]
  },
  {
   "cell_type": "code",
   "execution_count": 2,
   "id": "5076c4d3-74f1-4c57-87f8-e13c736e3937",
   "metadata": {},
   "outputs": [],
   "source": [
    "import torch\n",
    "import torch.nn as nn\n",
    "\n",
    "from tqdm.notebook import tqdm"
   ]
  },
  {
   "cell_type": "markdown",
   "id": "bf13726d-c49e-476a-ab93-ca078fb9b032",
   "metadata": {},
   "source": [
    "The general function for the output tensor is as follows: (source: https://pytorch.org/docs/stable/generated/torch.nn.Conv2d.html)\n",
    "\n",
    "$$ \n",
    "\\text{out}(N_i, C_{out_j}) = \\cancel{\\text{bias}(C_{out_j})} + \\sum_{j}{C_{in} - 1}\\text{weight}(C_{out_j}, k) * \\text{input}(N_i,k)\n",
    "$$\n",
    "\n",
    "This can be expressed through the following pseudocode:\n",
    "```\n",
    "NOT DONE!\n",
    "for n in batch_size:\n",
    "    for c_out in channels_out:\n",
    "        # output_tensor[n, c_out] = sum\n",
    "        sum = 0 \n",
    "        for c_in in channels_in:\n",
    "            sum += weight[c_out, c_in) * input[b, c_in]\n",
    "        output[n, c_out] = sum\n",
    "```"
   ]
  },
  {
   "cell_type": "markdown",
   "id": "33427512-ad6a-4a1d-8c24-deab956386fb",
   "metadata": {},
   "source": [
    "The output height and width for a layer $l$ can be expressed as follows:\n",
    "\n",
    "$$\n",
    "n_{H|W}^{[l]} = \\frac{n_{H|W}^{[l-1]} + 2p^{[l-1]}-f^{[l-1]}}{s^{[l-1]}} + 1\n",
    "$$\n",
    "\n",
    "with $s$ representing stride and $p$ representing padding."
   ]
  },
  {
   "cell_type": "code",
   "execution_count": null,
   "id": "0d62f26c-ee14-4669-b3b5-1a2f8d2aaecb",
   "metadata": {},
   "outputs": [],
   "source": []
  }
 ],
 "metadata": {
  "kernelspec": {
   "display_name": "Python 3 (ipykernel)",
   "language": "python",
   "name": "python3"
  },
  "language_info": {
   "codemirror_mode": {
    "name": "ipython",
    "version": 3
   },
   "file_extension": ".py",
   "mimetype": "text/x-python",
   "name": "python",
   "nbconvert_exporter": "python",
   "pygments_lexer": "ipython3",
   "version": "3.11.9"
  }
 },
 "nbformat": 4,
 "nbformat_minor": 5
}
